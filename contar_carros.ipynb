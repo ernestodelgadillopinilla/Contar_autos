{
 "cells": [
  {
   "cell_type": "code",
   "execution_count": 1,
   "id": "ada0adc5",
   "metadata": {},
   "outputs": [],
   "source": [
    "import cv2\n",
    "import numpy as np\n",
    "import imutils #Instalar librería para establecer el tamaño del video"
   ]
  },
  {
   "cell_type": "code",
   "execution_count": 2,
   "id": "122d4b11",
   "metadata": {},
   "outputs": [],
   "source": [
    "cap = cv2.VideoCapture('Carros.mp4')\n",
    "carros = cv2.CascadeClassifier('cars.xml')\n",
    "\n",
    "fgbg = cv2.bgsegm.createBackgroundSubtractorMOG() #Es necesario instalar la dependencia \"contrib\"\n",
    "#ya que jupyter no la incluye\n",
    "kernel = cv2.getStructuringElement(cv2.MORPH_ELLIPSE, (3, 3))\n",
    "car_counter = 0\n",
    "\n",
    "while True:\n",
    "    ret, frame = cap.read()\n",
    "    if ret == False: break\n",
    "    frame = imutils.resize(frame, width=640)\n",
    "    \n",
    "    #Especifica los puntos a del area a analizar\n",
    "    area_pts = np.array([[330, 10], [frame.shape[1]-80, 10], [frame.shape[1]-80, 355], [330, 355]])\n",
    "    \n",
    "    #Detector de movimiento\n",
    "    imAux = np.zeros(shape=(frame.shape[:2]), dtype=np.uint8)\n",
    "    imAux = cv2.drawContours(imAux, [area_pts], -1, (255), -1)\n",
    "    image_area = cv2.bitwise_and(frame, frame, mask=imAux)\n",
    "    \n",
    "    #Sustracción de fondo\n",
    "    fgmask = fgbg.apply(image_area)\n",
    "    fgmask = cv2.morphologyEx(fgmask, cv2.MORPH_OPEN, kernel)\n",
    "    fgmask = cv2.morphologyEx(fgmask, cv2.MORPH_CLOSE, kernel)\n",
    "    fgmask = cv2.dilate(fgmask, None, iterations=5)\n",
    "    \n",
    "    #Encontrar contornos presentes\n",
    "    cnts = cv2.findContours(fgmask, cv2.RETR_EXTERNAL, cv2.CHAIN_APPROX_SIMPLE)[0]\n",
    "    \n",
    "    for cnt in cnts:\n",
    "        if cv2.contourArea(cnt) > 1500:\n",
    "            x, y, w, h = cv2.boundingRect(cnt)\n",
    "            cv2.rectangle(frame, (x,y), (x+w,y+h), (0,255,255), 1)\n",
    "            \n",
    "            #Incrementar contador\n",
    "            if 440 < (x + w) < 460:\n",
    "                car_counter = car_counter + 1\n",
    "                cv2.line(frame, (450, 10), (450, 355), (0, 255, 0), 3)\n",
    "    \n",
    "    #Visualización\n",
    "    cv2.drawContours(frame, [area_pts], -1, (0, 128, 0), 2)\n",
    "    cv2.line(frame, (450, 10), (450, 355), (0, 255, 255), 1)\n",
    "    cv2.rectangle(frame, (frame.shape[1]-70, 215), (frame.shape[1]-5, 270), (0, 255, 0), 2)\n",
    "    cv2.putText(frame, str(car_counter), (frame.shape[1]-55, 250),\n",
    "                cv2.FONT_HERSHEY_SIMPLEX, 1.2, (0,255,0), 2)\n",
    "    cv2.imshow('Frame', frame)\n",
    "    #cv2.imshow('fgmask', fgmask)\n",
    "        \n",
    "    k = cv2.waitKey(70) & 0xFF\n",
    "    if k == 27:\n",
    "        break\n",
    "            \n",
    "cap.release()\n",
    "cv2.destroyAllWindows()"
   ]
  }
 ],
 "metadata": {
  "kernelspec": {
   "display_name": "Python 3 (ipykernel)",
   "language": "python",
   "name": "python3"
  },
  "language_info": {
   "codemirror_mode": {
    "name": "ipython",
    "version": 3
   },
   "file_extension": ".py",
   "mimetype": "text/x-python",
   "name": "python",
   "nbconvert_exporter": "python",
   "pygments_lexer": "ipython3",
   "version": "3.9.7"
  }
 },
 "nbformat": 4,
 "nbformat_minor": 5
}
